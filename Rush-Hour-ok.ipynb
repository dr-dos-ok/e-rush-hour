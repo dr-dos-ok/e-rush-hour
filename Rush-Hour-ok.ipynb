{
 "cells": [
  {
   "cell_type": "code",
   "execution_count": 1,
   "metadata": {},
   "outputs": [],
   "source": [
    "from random import randint\n"
   ]
  },
  {
   "cell_type": "code",
   "execution_count": 2,
   "metadata": {},
   "outputs": [
    {
     "data": {
      "text/plain": [
       "False"
      ]
     },
     "execution_count": 2,
     "metadata": {},
     "output_type": "execute_result"
    }
   ],
   "source": [
    "def coinflip():\n",
    "    return True if randint(0, 1) == 1 else False\n",
    "coinflip()"
   ]
  },
  {
   "cell_type": "code",
   "execution_count": 3,
   "metadata": {},
   "outputs": [],
   "source": [
    "class user():\n",
    "    \"\"\"User is an agent!\"\"\"\n",
    "    def __init__(self, ID, laziness=0, pressure = 1):\n",
    "        self.ID = ID\n",
    "        self.pressure = pressure\n",
    "        self.laziness = laziness\n",
    "    def doWork(self):\n",
    "        self.pressure = 0\n",
    "    def postpone(self):\n",
    "        self.pressure = self.pressure + 1 \n",
    "    def step(self):\n",
    "        if coinflip():\n",
    "            self.doWork() \n",
    "        else: \n",
    "            self.postpone()\n",
    "    def ID(self):\n",
    "        return self.ID\n",
    "    def pressure(self):\n",
    "        return self.pressure\n",
    "    def laziness(self):\n",
    "        return self.laziness   \n",
    "    \n",
    "class world():\n",
    "    \"\"\"A Simple Model of world\"\"\"\n",
    "    def __init__(self, time = 6, N = 10):\n",
    "        self.N = N\n",
    "        self.users = [user(i, randint(-1, 1) ) for i in range(self.N)]\n",
    "        self.time = time\n",
    "        \n",
    "#    def operate(self):\n",
    "#        A = self.users[randint(0, self.N-1)]\n",
    "#        if A.pressure > 0:\n",
    "#            A.postpone()\n",
    "        \n",
    "#    def operate(self):\n",
    "#       for i in range(self.N):\n",
    "#            A = self.users[i]\n",
    "#            if A.pressure > 0:\n",
    "#                if coinflip():\n",
    "#                    A.doWork()\n",
    "#                else:\n",
    "#                    A.postpone()\n",
    "\n",
    "#    def operate(self):\n",
    "#        for i in range(self.N):\n",
    "#            A = self.users[i]\n",
    "#            if A.pressure > 0:\n",
    "#                if A.laziness < 0:\n",
    "#                    if A.pressure < self.time / 3:\n",
    "#                        A.doWork()\n",
    "#                elif A.laziness == 0:\n",
    "#                    if A.pressure < 2 * self.time / 3:\n",
    "#                        A.step()\n",
    "#                else:\n",
    "#                    A.postpone()\n",
    "\n",
    "    def operate(self):\n",
    "        for i in range(self.N):\n",
    "            A = self.users[i]\n",
    "            if A.pressure >= self.time:\n",
    "                return\n",
    "            elif A.pressure > 0:\n",
    "                if A.laziness < 0:\n",
    "                    if A.pressure < self.time / 3:\n",
    "                        if coinflip():\n",
    "                            A.doWork() \n",
    "                        else: \n",
    "                            pass\n",
    "                elif A.laziness == 0:\n",
    "                    if A.pressure < 2 * self.time / 3:\n",
    "                        if coinflip():\n",
    "                            A.doWork() \n",
    "                        else: \n",
    "                            A.postpone()\n",
    "                else:\n",
    "                    if coinflip():\n",
    "                        pass \n",
    "                    else: \n",
    "                        A.postpone()\n",
    "            \n",
    "                    \n",
    "    def pressures(self):\n",
    "        return [person.pressure() for person in self.users]\n",
    "    \n",
    "    def describe(self):\n",
    "        for i in range(self.N):\n",
    "            A = self.users[i]\n",
    "            print(\"User \", str(A.ID) , \" has pressure \", str(A.pressure) , \" has laziness \", str(A.laziness) )\n",
    "    "
   ]
  },
  {
   "cell_type": "code",
   "execution_count": 4,
   "metadata": {},
   "outputs": [
    {
     "name": "stdout",
     "output_type": "stream",
     "text": [
      "User  0  has pressure  1  has laziness  1\n",
      "User  1  has pressure  1  has laziness  1\n",
      "User  2  has pressure  1  has laziness  -1\n",
      "User  3  has pressure  1  has laziness  1\n",
      "User  4  has pressure  1  has laziness  1\n",
      "User  5  has pressure  1  has laziness  0\n",
      "User  6  has pressure  1  has laziness  -1\n",
      "User  7  has pressure  1  has laziness  -1\n",
      "User  8  has pressure  1  has laziness  0\n",
      "User  9  has pressure  1  has laziness  0\n"
     ]
    }
   ],
   "source": [
    "world1 = world()\n",
    "world1.describe()"
   ]
  },
  {
   "cell_type": "code",
   "execution_count": 5,
   "metadata": {},
   "outputs": [
    {
     "name": "stdout",
     "output_type": "stream",
     "text": [
      "User  0  has pressure  1  has laziness  1\n",
      "User  1  has pressure  1  has laziness  1\n",
      "User  2  has pressure  0  has laziness  -1\n",
      "User  3  has pressure  1  has laziness  1\n",
      "User  4  has pressure  2  has laziness  1\n",
      "User  5  has pressure  2  has laziness  0\n",
      "User  6  has pressure  1  has laziness  -1\n",
      "User  7  has pressure  1  has laziness  -1\n",
      "User  8  has pressure  0  has laziness  0\n",
      "User  9  has pressure  2  has laziness  0\n"
     ]
    }
   ],
   "source": [
    "world1.operate()\n",
    "world1.describe()"
   ]
  },
  {
   "cell_type": "code",
   "execution_count": 6,
   "metadata": {},
   "outputs": [
    {
     "name": "stdout",
     "output_type": "stream",
     "text": [
      "User  0  has pressure  1  has laziness  1\n",
      "User  1  has pressure  2  has laziness  1\n",
      "User  2  has pressure  0  has laziness  -1\n",
      "User  3  has pressure  2  has laziness  1\n",
      "User  4  has pressure  3  has laziness  1\n",
      "User  5  has pressure  3  has laziness  0\n",
      "User  6  has pressure  0  has laziness  -1\n",
      "User  7  has pressure  0  has laziness  -1\n",
      "User  8  has pressure  0  has laziness  0\n",
      "User  9  has pressure  0  has laziness  0\n"
     ]
    }
   ],
   "source": [
    "world1.operate()\n",
    "world1.describe()"
   ]
  },
  {
   "cell_type": "code",
   "execution_count": 7,
   "metadata": {},
   "outputs": [
    {
     "name": "stdout",
     "output_type": "stream",
     "text": [
      "User  0  has pressure  2  has laziness  1\n",
      "User  1  has pressure  2  has laziness  1\n",
      "User  2  has pressure  0  has laziness  -1\n",
      "User  3  has pressure  3  has laziness  1\n",
      "User  4  has pressure  4  has laziness  1\n",
      "User  5  has pressure  0  has laziness  0\n",
      "User  6  has pressure  0  has laziness  -1\n",
      "User  7  has pressure  0  has laziness  -1\n",
      "User  8  has pressure  0  has laziness  0\n",
      "User  9  has pressure  0  has laziness  0\n"
     ]
    }
   ],
   "source": [
    "world1.operate()\n",
    "world1.describe()"
   ]
  },
  {
   "cell_type": "code",
   "execution_count": 8,
   "metadata": {},
   "outputs": [
    {
     "name": "stdout",
     "output_type": "stream",
     "text": [
      "User  0  has pressure  2  has laziness  1\n",
      "User  1  has pressure  2  has laziness  1\n",
      "User  2  has pressure  0  has laziness  -1\n",
      "User  3  has pressure  3  has laziness  1\n",
      "User  4  has pressure  5  has laziness  1\n",
      "User  5  has pressure  0  has laziness  0\n",
      "User  6  has pressure  0  has laziness  -1\n",
      "User  7  has pressure  0  has laziness  -1\n",
      "User  8  has pressure  0  has laziness  0\n",
      "User  9  has pressure  0  has laziness  0\n"
     ]
    }
   ],
   "source": [
    "world1.operate()\n",
    "world1.describe()"
   ]
  },
  {
   "cell_type": "code",
   "execution_count": 9,
   "metadata": {},
   "outputs": [
    {
     "name": "stdout",
     "output_type": "stream",
     "text": [
      "User  0  has pressure  2  has laziness  1\n",
      "User  1  has pressure  2  has laziness  1\n",
      "User  2  has pressure  0  has laziness  -1\n",
      "User  3  has pressure  4  has laziness  1\n",
      "User  4  has pressure  5  has laziness  1\n",
      "User  5  has pressure  0  has laziness  0\n",
      "User  6  has pressure  0  has laziness  -1\n",
      "User  7  has pressure  0  has laziness  -1\n",
      "User  8  has pressure  0  has laziness  0\n",
      "User  9  has pressure  0  has laziness  0\n"
     ]
    }
   ],
   "source": [
    "world1.operate()\n",
    "world1.describe()"
   ]
  },
  {
   "cell_type": "code",
   "execution_count": 10,
   "metadata": {},
   "outputs": [
    {
     "name": "stdout",
     "output_type": "stream",
     "text": [
      "User  0  has pressure  3  has laziness  1\n",
      "User  1  has pressure  2  has laziness  1\n",
      "User  2  has pressure  0  has laziness  -1\n",
      "User  3  has pressure  4  has laziness  1\n",
      "User  4  has pressure  5  has laziness  1\n",
      "User  5  has pressure  0  has laziness  0\n",
      "User  6  has pressure  0  has laziness  -1\n",
      "User  7  has pressure  0  has laziness  -1\n",
      "User  8  has pressure  0  has laziness  0\n",
      "User  9  has pressure  0  has laziness  0\n"
     ]
    }
   ],
   "source": [
    "world1.operate()\n",
    "world1.describe()"
   ]
  },
  {
   "cell_type": "code",
   "execution_count": 11,
   "metadata": {},
   "outputs": [
    {
     "name": "stdout",
     "output_type": "stream",
     "text": [
      "User  0  has pressure  4  has laziness  1\n",
      "User  1  has pressure  2  has laziness  1\n",
      "User  2  has pressure  0  has laziness  -1\n",
      "User  3  has pressure  4  has laziness  1\n",
      "User  4  has pressure  5  has laziness  1\n",
      "User  5  has pressure  0  has laziness  0\n",
      "User  6  has pressure  0  has laziness  -1\n",
      "User  7  has pressure  0  has laziness  -1\n",
      "User  8  has pressure  0  has laziness  0\n",
      "User  9  has pressure  0  has laziness  0\n"
     ]
    }
   ],
   "source": [
    "world1.operate()\n",
    "world1.describe()"
   ]
  },
  {
   "cell_type": "code",
   "execution_count": 12,
   "metadata": {},
   "outputs": [
    {
     "name": "stdout",
     "output_type": "stream",
     "text": [
      "User  0  has pressure  4  has laziness  1\n",
      "User  1  has pressure  2  has laziness  1\n",
      "User  2  has pressure  0  has laziness  -1\n",
      "User  3  has pressure  5  has laziness  1\n",
      "User  4  has pressure  5  has laziness  1\n",
      "User  5  has pressure  0  has laziness  0\n",
      "User  6  has pressure  0  has laziness  -1\n",
      "User  7  has pressure  0  has laziness  -1\n",
      "User  8  has pressure  0  has laziness  0\n",
      "User  9  has pressure  0  has laziness  0\n"
     ]
    }
   ],
   "source": [
    "world1.operate()\n",
    "world1.describe()"
   ]
  },
  {
   "cell_type": "code",
   "execution_count": 13,
   "metadata": {},
   "outputs": [
    {
     "name": "stdout",
     "output_type": "stream",
     "text": [
      "User  0  has pressure  5  has laziness  1\n",
      "User  1  has pressure  3  has laziness  1\n",
      "User  2  has pressure  0  has laziness  -1\n",
      "User  3  has pressure  6  has laziness  1\n",
      "User  4  has pressure  6  has laziness  1\n",
      "User  5  has pressure  0  has laziness  0\n",
      "User  6  has pressure  0  has laziness  -1\n",
      "User  7  has pressure  0  has laziness  -1\n",
      "User  8  has pressure  0  has laziness  0\n",
      "User  9  has pressure  0  has laziness  0\n"
     ]
    }
   ],
   "source": [
    "world1.operate()\n",
    "world1.describe()"
   ]
  },
  {
   "cell_type": "code",
   "execution_count": 15,
   "metadata": {},
   "outputs": [
    {
     "data": {
      "image/png": "[encoded data removed]",
      "text/plain": [
       "<Figure size 432x288 with 1 Axes>"
      ]
     },
     "metadata": {
      "needs_background": "light"
     },
     "output_type": "display_data"
    }
   ],
   "source": [
    "import matplotlib\n",
    "import numpy as np\n",
    "import matplotlib.pyplot as plt\n",
    "%matplotlib inline  \n",
    "\n",
    "f = open ('myfile.txt')\n",
    "data = f.readlines()\n",
    "data = list(map(lambda s: int(s.strip()), data))\n",
    "data\n",
    "\n",
    "fig = plt.figure()\n",
    "ax1 = fig.add_subplot(111)\n",
    "ax1.set_xlabel('axial strain')\n",
    "ax1.set_ylabel('stress')\n",
    "ax1.plot(data)\n",
    "\n",
    "plt.show()"
   ]
  },
  {
   "cell_type": "code",
   "execution_count": null,
   "metadata": {},
   "outputs": [],
   "source": []
  }
 ],
 "metadata": {
  "kernelspec": {
   "display_name": "Python 3",
   "language": "python",
   "name": "python3"
  },
  "language_info": {
   "codemirror_mode": {
    "name": "ipython",
    "version": 3
   },
   "file_extension": ".py",
   "mimetype": "text/x-python",
   "name": "python",
   "nbconvert_exporter": "python",
   "pygments_lexer": "ipython3",
   "version": "3.7.1"
  }
 },
 "nbformat": 4,
 "nbformat_minor": 2
}
